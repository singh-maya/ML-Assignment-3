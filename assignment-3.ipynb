{
 "cells": [
  {
   "cell_type": "code",
   "execution_count": 37,
   "metadata": {},
   "outputs": [],
   "source": [
    "import random\n",
    "import os"
   ]
  },
  {
   "attachments": {},
   "cell_type": "markdown",
   "metadata": {},
   "source": [
    "<h1> Step 1: Split the dataset into training and testing sets</h1>"
   ]
  },
  {
   "cell_type": "code",
   "execution_count": 38,
   "metadata": {},
   "outputs": [],
   "source": [
    "angry_files = []\n",
    "angry_test = []\n",
    "for filename in os.listdir(\"data_folder/angry/\"):\n",
    "    f = os.path.join(\"./data_folder/angry/\", filename)\n",
    "    if os.path.isfile:\n",
    "        angry_files.append(f)\n",
    "angry_training=random.sample(angry_files, k=70)\n",
    "for file in angry_files:\n",
    "    if file not in angry_training:\n",
    "        angry_test.append(file)\n",
    "\n",
    "fear_files = []\n",
    "fear_test = []\n",
    "for filename in os.listdir(\"data_folder/fear/\"):\n",
    "    f = os.path.join(\"./data_folder/fear/\", filename)\n",
    "    if os.path.isfile:\n",
    "        fear_files.append(f)\n",
    "fear_training=random.sample(fear_files, k=70)\n",
    "for file in fear_files:\n",
    "    if file not in fear_training:\n",
    "        fear_test.append(file)\n",
    "\n",
    "happy_files = []\n",
    "happy_test = []\n",
    "for filename in os.listdir(\"data_folder/happy/\"):\n",
    "    f = os.path.join(\"./data_folder/happy/\", filename)\n",
    "    if os.path.isfile:\n",
    "        happy_files.append(f)\n",
    "happy_training=random.sample(happy_files, k=70)\n",
    "for file in happy_files:\n",
    "    if file not in happy_training:\n",
    "        happy_test.append(file)\n",
    "\n",
    "sad_files = []\n",
    "sad_test = []\n",
    "for filename in os.listdir(\"data_folder/sad/\"):\n",
    "    f = os.path.join(\"./data_folder/sad/\", filename)\n",
    "    if os.path.isfile:\n",
    "        sad_files.append(f)\n",
    "sad_training=random.sample(sad_files, k=70)\n",
    "for file in sad_files:\n",
    "    if file not in sad_training:\n",
    "        sad_test.append(file)\n"
   ]
  },
  {
   "attachments": {},
   "cell_type": "markdown",
   "metadata": {},
   "source": [
    "<h1>Step 2: Exploratory Data Analysis.</h1>"
   ]
  },
  {
   "cell_type": "code",
   "execution_count": null,
   "metadata": {},
   "outputs": [],
   "source": [
    "# label distribution of dataset\n",
    "# plot audio in time and frequency domain"
   ]
  }
 ],
 "metadata": {
  "kernelspec": {
   "display_name": "Python 3 (ipykernel)",
   "language": "python",
   "name": "python3"
  },
  "language_info": {
   "codemirror_mode": {
    "name": "ipython",
    "version": 3
   },
   "file_extension": ".py",
   "mimetype": "text/x-python",
   "name": "python",
   "nbconvert_exporter": "python",
   "pygments_lexer": "ipython3",
   "version": "3.9.16"
  },
  "orig_nbformat": 4
 },
 "nbformat": 4,
 "nbformat_minor": 2
}
